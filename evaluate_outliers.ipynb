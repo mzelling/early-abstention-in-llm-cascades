{
 "cells": [
  {
   "cell_type": "code",
   "execution_count": 8,
   "metadata": {},
   "outputs": [
    {
     "name": "stdout",
     "output_type": "stream",
     "text": [
      "Proportion of grid points smoothed (early abstention): 0.03533053242117787\n",
      "Proportion of grid points smoothed (final-model abstention): 0.027435926036089627\n"
     ]
    }
   ],
   "source": [
    "import pickle\n",
    "import numpy as np\n",
    "\n",
    "with open(f\"./performance_data/outlier_stats_outlier=10.pkl\", \"rb\") as file:\n",
    "    outlier_stats = pickle.load(file)\n",
    "\n",
    "print(\n",
    "    f\"Proportion of grid points smoothed (early abstention): {np.mean(outlier_stats['early_abs'])}\"\n",
    ")\n",
    "print(\n",
    "    f\"Proportion of grid points smoothed (final-model abstention): {np.mean(outlier_stats['final_model_abs'])}\"\n",
    ")"
   ]
  }
 ],
 "metadata": {
  "kernelspec": {
   "display_name": "base",
   "language": "python",
   "name": "python3"
  },
  "language_info": {
   "codemirror_mode": {
    "name": "ipython",
    "version": 3
   },
   "file_extension": ".py",
   "mimetype": "text/x-python",
   "name": "python",
   "nbconvert_exporter": "python",
   "pygments_lexer": "ipython3",
   "version": "3.11.9"
  }
 },
 "nbformat": 4,
 "nbformat_minor": 2
}
